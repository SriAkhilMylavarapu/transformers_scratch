{
 "cells": [
  {
   "cell_type": "code",
   "execution_count": 1,
   "id": "7e3ce921-ed56-466c-a173-081c6fb26cdb",
   "metadata": {},
   "outputs": [
    {
     "data": {
      "text/plain": [
       "True"
      ]
     },
     "execution_count": 1,
     "metadata": {},
     "output_type": "execute_result"
    }
   ],
   "source": [
    "import torch\n",
    "torch.cuda.is_available()"
   ]
  },
  {
   "cell_type": "code",
   "execution_count": 2,
   "id": "1e734bac-4f75-4877-8ae8-e7f73338efdc",
   "metadata": {},
   "outputs": [
    {
     "name": "stdout",
     "output_type": "stream",
     "text": [
      "cuda:0\n"
     ]
    }
   ],
   "source": [
    "import json\n",
    "import os\n",
    "from collections import defaultdict\n",
    "import torch.nn as nn\n",
    "import torch\n",
    "import torch.nn.functional as F\n",
    "import math,copy,re\n",
    "import warnings\n",
    "import pandas as pd\n",
    "import numpy as np\n",
    "import seaborn as sns\n",
    "import matplotlib.pyplot as plt\n",
    "from torch.utils.data import Dataset, DataLoader\n",
    "from torch.nn.utils.rnn import pad_sequence\n",
    "from torch.cuda.amp import autocast, GradScaler\n",
    "from tqdm.notebook import tqdm\n",
    "warnings.simplefilter(\"ignore\")\n",
    "device = torch.device(\"cuda:0\" if torch.cuda.is_available() else \"cpu\")\n",
    "print(device)"
   ]
  },
  {
   "cell_type": "markdown",
   "id": "4b1dcd1a-f34a-4f2a-beae-2200878a117f",
   "metadata": {},
   "source": [
    "# Transformer Architecture "
   ]
  },
  {
   "cell_type": "markdown",
   "id": "c5d8c9bf-0876-44dd-9701-4b0ecfb5d929",
   "metadata": {},
   "source": [
    "## Positional Encoding\n",
    "![title](imgs/Positional_Encoding.png)"
   ]
  },
  {
   "cell_type": "code",
   "execution_count": 3,
   "id": "64e4ba11-ea1b-42f2-85b7-ce93edd1d9b7",
   "metadata": {},
   "outputs": [],
   "source": [
    "#adds position data to input\n",
    "class PositionalEncoding(nn.Module):\n",
    "    def __init__(self, d_model, max_seq_len):\n",
    "        super(PositionalEncoding, self).__init__()\n",
    "        self.d_model = d_model \n",
    "\n",
    "        position = torch.arange(0, max_seq_len, dtype=torch.float).unsqueeze(1)\n",
    "        div_term = torch.exp(torch.arange(0, d_model, 2).float() * (-math.log(10000.0) / d_model))\n",
    "        \n",
    "        pe = torch.zeros(max_seq_len, d_model)\n",
    "        pe[:, 0::2] = torch.sin(position * div_term) #even indices use sine\n",
    "        pe[:, 1::2] = torch.cos(position * div_term) #odd use cos\n",
    "        \n",
    "        pe = pe.unsqueeze(0) #adds dimension for batch\n",
    "\n",
    "        self.register_buffer('pe', pe) #doesn't get updated during backpropagation\n",
    "\n",
    "    def forward(self, x):\n",
    "        seq_len = x.size(1) #x has shape [batch_size, seq_len, d_model]\n",
    "        x = x + self.pe[:, :seq_len] #adds positional encoding till seq_len (as x is seq_len)\n",
    "        return x"
   ]
  },
  {
   "cell_type": "markdown",
   "id": "f61d7e97-934d-4df9-af30-45d7a9103f7a",
   "metadata": {},
   "source": [
    "## Multi Head Attention\n",
    "![title](imgs/Multi_Head_Attention.png)"
   ]
  },
  {
   "cell_type": "code",
   "execution_count": 4,
   "id": "55bd99be-9e97-4527-be18-a4ae70a35bbc",
   "metadata": {},
   "outputs": [],
   "source": [
    "class MultiHeadAttention(nn.Module):\n",
    "    def __init__(self, d_model, num_heads):\n",
    "        super().__init__() # Initializes nn.Module\n",
    "        assert d_model % num_heads == 0, \"d_model must be divisible by num_heads\" #to make sure dimension of all heads are the same\n",
    "        \n",
    "        self.d_model = d_model\n",
    "        self.num_heads = num_heads\n",
    "        self.d_k = d_model // num_heads  # Dimension of each head's key/query/value\n",
    "        \n",
    "        # Linear projections for Q, K, V, and output (dimensions are d_model and not d_k as weights of all heads are contained in this)\n",
    "        self.W_q = nn.Linear(d_model, d_model, bias=False)  # Query projection\n",
    "        self.W_k = nn.Linear(d_model, d_model, bias=False)  # Key projection\n",
    "        self.W_v = nn.Linear(d_model, d_model, bias=False)  # Value projection\n",
    "        self.W_o = nn.Linear(d_model, d_model, bias=False)  # Output projection\n",
    "        \n",
    "        # Initialize parameters with Xavier initialization\n",
    "        nn.init.xavier_uniform_(self.W_q.weight)\n",
    "        nn.init.xavier_uniform_(self.W_k.weight)\n",
    "        nn.init.xavier_uniform_(self.W_v.weight)\n",
    "        nn.init.xavier_uniform_(self.W_o.weight)\n",
    "        \n",
    "    def scaled_dot_product_attention(self, Q, K, V, mask=None):\n",
    "        # Compute attention scores (Q * K^T / sqrt(d_k))\n",
    "        attn_scores = torch.matmul(Q, K.transpose(-2, -1)) / math.sqrt(self.d_k)\n",
    "        \n",
    "        # Apply mask if provided (for padding tokens or future tokens)\n",
    "        if mask is not None:\n",
    "            attn_scores = attn_scores.masked_fill(mask == 0, -1e9)\n",
    "        \n",
    "        # Apply softmax to get attention weights\n",
    "        attn_probs = F.softmax(attn_scores, dim=-1)\n",
    "        \n",
    "        # Apply attention weights to values\n",
    "        output = torch.matmul(attn_probs, V)\n",
    "        \n",
    "        return output\n",
    "        \n",
    "    def split_heads(self, x):\n",
    "        batch_size, seq_length, _ = x.size()\n",
    "\n",
    "        #changes shape from [batch_size, seq_len, d_model] to [batch_size, num_heads, seq_len, d_k]\n",
    "        return x.view(batch_size, seq_length, self.num_heads, self.d_k).transpose(1, 2)\n",
    "        \n",
    "    def combine_heads(self, x):\n",
    "        batch_size, _, seq_length, _ = x.size()\n",
    "\n",
    "        #changes shape from [batch_size, num_heads, seq_len, d_k] to [batch_size, seq_len, d_model]\n",
    "        return x.transpose(1, 2).contiguous().view(batch_size, seq_length, self.d_model)\n",
    "        \n",
    "    def forward(self, Q, K, V, mask=None):\n",
    "        # Linear projections and split into heads\n",
    "        Q = self.split_heads(self.W_q(Q))\n",
    "        K = self.split_heads(self.W_k(K))\n",
    "        V = self.split_heads(self.W_v(V))\n",
    "        \n",
    "        # Scaled dot-product attention\n",
    "        attn_output = self.scaled_dot_product_attention(Q, K, V, mask)\n",
    "        \n",
    "        # Concatenate heads and apply final linear layer\n",
    "        output = self.W_o(self.combine_heads(attn_output))\n",
    "        \n",
    "        return output"
   ]
  },
  {
   "attachments": {},
   "cell_type": "markdown",
   "id": "c6637805-5786-46f8-bfa6-caad0f3a3b5e",
   "metadata": {},
   "source": [
    "## Position Wise Feed Forward\n",
    "![title](imgs/FFN.png)"
   ]
  },
  {
   "cell_type": "code",
   "execution_count": 5,
   "id": "5c4aa029-198f-4491-87d4-3875f98e4272",
   "metadata": {},
   "outputs": [],
   "source": [
    "class PositionWiseFeedForward(nn.Module):\n",
    "    def __init__(self, d_model, d_ff, dropout=0.1):\n",
    "        super(PositionWiseFeedForward, self).__init__()\n",
    "        # 2 Linear Layers, Dropout and ReLU\n",
    "        self.fc1 = nn.Linear(d_model, d_ff)\n",
    "        self.fc2 = nn.Linear(d_ff, d_model)\n",
    "        self.dropout = nn.Dropout(dropout)\n",
    "        self.relu = nn.ReLU()\n",
    "        \n",
    "        # Initialize parameters\n",
    "        nn.init.xavier_uniform_(self.fc1.weight)\n",
    "        nn.init.xavier_uniform_(self.fc2.weight)\n",
    "        nn.init.zeros_(self.fc1.bias)\n",
    "        nn.init.zeros_(self.fc2.bias)\n",
    "\n",
    "    def forward(self, x):\n",
    "        return self.fc2(self.dropout(self.relu(self.fc1(x))))"
   ]
  },
  {
   "cell_type": "markdown",
   "id": "f143e76b-43b4-4e80-8c65-396e2a723902",
   "metadata": {},
   "source": [
    "## Encoder Layer\n",
    "![title](imgs/Encoder.png)"
   ]
  },
  {
   "cell_type": "code",
   "execution_count": 6,
   "id": "74d09679-7361-454c-83e7-88313a6922d2",
   "metadata": {},
   "outputs": [],
   "source": [
    "class EncoderLayer(nn.Module):\n",
    "    def __init__(self, d_model, num_heads, d_ff, dropout):\n",
    "        super(EncoderLayer, self).__init__()\n",
    "        self.self_attn = MultiHeadAttention(d_model, num_heads)\n",
    "        self.feed_forward = PositionWiseFeedForward(d_model, d_ff, dropout)\n",
    "        self.norm1 = nn.LayerNorm(d_model, eps=1e-6)\n",
    "        self.norm2 = nn.LayerNorm(d_model, eps=1e-6)\n",
    "        self.dropout1 = nn.Dropout(dropout)\n",
    "        self.dropout2 = nn.Dropout(dropout)\n",
    "        \n",
    "    def forward(self, x, mask):\n",
    "        # Self-attention block with residual connection and layer norm\n",
    "        attn_output = self.self_attn(x, x, x, mask)\n",
    "        x = self.norm1(x + self.dropout1(attn_output))\n",
    "        \n",
    "        # Feed-forward block with residual connection and layer norm\n",
    "        ff_output = self.feed_forward(x)\n",
    "        x = self.norm2(x + self.dropout2(ff_output))\n",
    "        \n",
    "        return x"
   ]
  },
  {
   "cell_type": "markdown",
   "id": "8249fb68-9430-430b-84e2-b81d949e7984",
   "metadata": {},
   "source": [
    "## Decoder Layer\n",
    "![title](imgs/Decoder.png)"
   ]
  },
  {
   "cell_type": "code",
   "execution_count": 7,
   "id": "46bb28d1-3a2d-4a1f-b659-e1226a89a5aa",
   "metadata": {},
   "outputs": [],
   "source": [
    "class DecoderLayer(nn.Module):\n",
    "    def __init__(self, d_model, num_heads, d_ff, dropout):\n",
    "        super(DecoderLayer, self).__init__()\n",
    "        self.self_attn = MultiHeadAttention(d_model, num_heads)\n",
    "        self.cross_attn = MultiHeadAttention(d_model, num_heads)\n",
    "        self.feed_forward = PositionWiseFeedForward(d_model, d_ff, dropout)\n",
    "        \n",
    "        self.norm1 = nn.LayerNorm(d_model, eps=1e-6)\n",
    "        self.norm2 = nn.LayerNorm(d_model, eps=1e-6)\n",
    "        self.norm3 = nn.LayerNorm(d_model, eps=1e-6)\n",
    "        \n",
    "        self.dropout1 = nn.Dropout(dropout)\n",
    "        self.dropout2 = nn.Dropout(dropout)\n",
    "        self.dropout3 = nn.Dropout(dropout)\n",
    "        \n",
    "    def forward(self, x, enc_output, src_mask, tgt_mask):\n",
    "        # Masked self-attention block\n",
    "        attn_output = self.self_attn(x, x, x, tgt_mask)\n",
    "        x = self.norm1(x + self.dropout1(attn_output))\n",
    "        \n",
    "        # Cross-attention block\n",
    "        attn_output = self.cross_attn(x, enc_output, enc_output, src_mask)\n",
    "        x = self.norm2(x + self.dropout2(attn_output))\n",
    "        \n",
    "        # Feed-forward block\n",
    "        ff_output = self.feed_forward(x)\n",
    "        x = self.norm3(x + self.dropout3(ff_output))\n",
    "        \n",
    "        return x"
   ]
  },
  {
   "cell_type": "markdown",
   "id": "05c67384-3262-4f50-b16f-b3a97faaece9",
   "metadata": {},
   "source": [
    "## Transformer\n",
    "![title](imgs/Model_Arch.png)"
   ]
  },
  {
   "cell_type": "code",
   "execution_count": 8,
   "id": "62bd6a8c-93ea-4f82-9058-ed2bcca0aa2d",
   "metadata": {},
   "outputs": [],
   "source": [
    "class Transformer(nn.Module):\n",
    "    def __init__(self, src_vocab_size, tgt_vocab_size, d_model, num_heads, num_layers, d_ff, max_seq_length, dropout):\n",
    "        super(Transformer, self).__init__()\n",
    "        self.d_model = d_model\n",
    "        self.max_seq_length = max_seq_length\n",
    "        \n",
    "        # Embeddings and positional encoding\n",
    "        self.encoder_embedding = nn.Embedding(src_vocab_size, d_model)\n",
    "        self.decoder_embedding = nn.Embedding(tgt_vocab_size, d_model)\n",
    "        self.positional_encoding = PositionalEncoding(d_model, max_seq_length * 2)\n",
    "        \n",
    "        # Encoder and decoder stacks\n",
    "        self.encoder_layers = nn.ModuleList([EncoderLayer(d_model, num_heads, d_ff, dropout) for _ in range(num_layers)])\n",
    "        self.decoder_layers = nn.ModuleList([DecoderLayer(d_model, num_heads, d_ff, dropout) for _ in range(num_layers)])\n",
    "        \n",
    "        # Final output layer\n",
    "        self.fc = nn.Linear(d_model, tgt_vocab_size)\n",
    "        self.dropout = nn.Dropout(dropout)\n",
    "        \n",
    "        # Initialize parameters\n",
    "        for p in self.parameters():\n",
    "            if p.dim() > 1:\n",
    "                nn.init.xavier_uniform_(p)\n",
    "\n",
    "    def generate_mask(self, src, tgt):\n",
    "        # Source mask hides padding tokens\n",
    "        src_mask = (src != 0).unsqueeze(1).unsqueeze(2)\n",
    "        \n",
    "        # Target mask hides padding tokens and future tokens\n",
    "        tgt_mask = (tgt != 0).unsqueeze(1).unsqueeze(3) #for padding\n",
    "        seq_length = tgt.size(1)\n",
    "        nopeak_mask = (1 - torch.triu(torch.ones(1, seq_length, seq_length, device=src.device), diagonal=1)).bool() #for future tokens\n",
    "        tgt_mask = tgt_mask & nopeak_mask\n",
    "        \n",
    "        return src_mask, tgt_mask\n",
    "\n",
    "    def forward(self, src, tgt):\n",
    "        src_mask, tgt_mask = self.generate_mask(src, tgt)\n",
    "        \n",
    "        # Embed source tokens and add positional encoding\n",
    "        src_embedded = self.encoder_embedding(src) * math.sqrt(self.d_model)\n",
    "        src_embedded = self.dropout(self.positional_encoding(src_embedded))\n",
    "        \n",
    "        # Embed target tokens and add positional encoding\n",
    "        tgt_embedded = self.decoder_embedding(tgt) * math.sqrt(self.d_model)\n",
    "        tgt_embedded = self.dropout(self.positional_encoding(tgt_embedded))\n",
    "\n",
    "        # Encoder forward pass\n",
    "        enc_output = src_embedded\n",
    "        for enc_layer in self.encoder_layers:\n",
    "            enc_output = enc_layer(enc_output, src_mask)\n",
    "\n",
    "        # Decoder forward pass\n",
    "        dec_output = tgt_embedded\n",
    "        for dec_layer in self.decoder_layers:\n",
    "            dec_output = dec_layer(dec_output, enc_output, src_mask, tgt_mask)\n",
    "\n",
    "        # Final linear projection\n",
    "        output = self.fc(dec_output) \n",
    "        return output\n",
    "\n",
    "    def generate(self, src, sos_token, eos_token, max_length=None):\n",
    "        if max_length is None:\n",
    "            max_length = self.max_seq_length\n",
    "            \n",
    "        self.eval() \n",
    "        batch_size = src.size(0)\n",
    "        device = src.device\n",
    "        \n",
    "        # Generate encoder output\n",
    "        src_mask = (src != 0).unsqueeze(1).unsqueeze(2)\n",
    "        src_embedded = self.encoder_embedding(src) * math.sqrt(self.d_model)\n",
    "        src_embedded = self.positional_encoding(src_embedded)\n",
    "        \n",
    "        enc_output = src_embedded\n",
    "        for enc_layer in self.encoder_layers:\n",
    "            enc_output = enc_layer(enc_output, src_mask)\n",
    "        \n",
    "        # Initialize decoder with SOS tokens\n",
    "        decoder_input = torch.full((batch_size, 1), sos_token, dtype=torch.long, device=device)\n",
    "        \n",
    "        # Generate output sequence autoregressively\n",
    "        for _ in range(max_length - 1):  # -1 to account for the SOS token\n",
    "            # Generate target mask for current sequence\n",
    "            tgt_mask = (decoder_input != 0).unsqueeze(1).unsqueeze(3)\n",
    "            seq_len = decoder_input.size(1)\n",
    "            nopeak_mask = (1 - torch.triu(torch.ones(1, seq_len, seq_len, device=device), diagonal=1)).bool()\n",
    "            tgt_mask = tgt_mask & nopeak_mask\n",
    "            \n",
    "            # Forward pass through decoder\n",
    "            tgt_embedded = self.decoder_embedding(decoder_input) * math.sqrt(self.d_model)\n",
    "            tgt_embedded = self.positional_encoding(tgt_embedded)\n",
    "            \n",
    "            dec_output = tgt_embedded\n",
    "            for dec_layer in self.decoder_layers:\n",
    "                dec_output = dec_layer(dec_output, enc_output, src_mask, tgt_mask)\n",
    "            \n",
    "            # Get next token probabilities\n",
    "            logits = self.fc(dec_output[:, -1, :])\n",
    "            probs = F.softmax(logits, dim=-1)\n",
    "            \n",
    "            # Get the most likely next token (greedy)\n",
    "            _, next_token = torch.max(probs, dim=-1, keepdim=True)\n",
    "            \n",
    "            # Concatenate to decoder input\n",
    "            decoder_input = torch.cat([decoder_input, next_token], dim=1)\n",
    "            \n",
    "            # Stop if all sequences have generated EOS\n",
    "            if (next_token == eos_token).all():\n",
    "                break\n",
    "        \n",
    "        return decoder_input\n",
    "\n",
    "    def tokenize_input(self, text, vocab):\n",
    "        tokens = [vocab.get(c, vocab['<unk>']) for c in text]\n",
    "        tokens = tokens[:self.max_seq_length] + [vocab['<pad>']] * (self.max_seq_length - len(tokens))\n",
    "        return torch.tensor(tokens, dtype=torch.long).unsqueeze(0)  # Add batch dimension\n",
    "    \n",
    "    def detokenize_output(self, tensor, inv_vocab):\n",
    "        # Convert tensor to text, stopping at EOS token\n",
    "        result = []\n",
    "        for idx in tensor[0]:\n",
    "            token = inv_vocab.get(idx.item(), '<unk>')\n",
    "            if token == '<eos>':\n",
    "                break\n",
    "            result.append(token)\n",
    "        return ''.join(result)"
   ]
  },
  {
   "cell_type": "markdown",
   "id": "3c18c9f1-4db7-468e-a050-9f00ddf0b4d0",
   "metadata": {},
   "source": [
    "# Testing Transformer"
   ]
  },
  {
   "cell_type": "code",
   "execution_count": 9,
   "id": "bc38e2fd-8cd7-4396-a146-6939b4c6e491",
   "metadata": {},
   "outputs": [],
   "source": [
    "import torch\n",
    "import torch.nn as nn\n",
    "from torch.utils.data import Dataset, DataLoader\n",
    "import math\n",
    "import random\n",
    "\n",
    "class AdditionDataset(Dataset):\n",
    "    def __init__(self, num_samples, max_digits):\n",
    "        self.num_samples = num_samples\n",
    "        self.max_digits = max_digits\n",
    "        self.src_max_len = 2 * max_digits + 1  # e.g., \"123+456\" is 7 chars\n",
    "        self.tgt_max_len = max_digits + 1 + 2  # e.g., \"<sos>579<eos>\" is 6 chars\n",
    "        self.vocab = {\n",
    "            '<pad>': 0, '<sos>': 1, '<eos>': 2, '<unk>': -1, '+': 3,\n",
    "            '0':4, '1':5, '2':6, '3':7, '4':8, '5':9, '6':10, '7':11, '8':12, '9':13\n",
    "        }\n",
    "        self.inv_vocab = {v:k for k,v in self.vocab.items()}\n",
    "\n",
    "    def __len__(self):\n",
    "        return self.num_samples\n",
    "\n",
    "    def __getitem__(self, idx):\n",
    "        max_val = 10**self.max_digits - 1\n",
    "        a = random.randint(0, max_val)\n",
    "        b = random.randint(0, max_val)\n",
    "        src_str = f\"{a}+{b}\"\n",
    "        tgt_str = f\"{a + b}\"\n",
    "\n",
    "        # Convert source to indices and pad\n",
    "        src = [self.vocab[c] for c in src_str]\n",
    "        src = src + [self.vocab['<pad>']] * (self.src_max_len - len(src))\n",
    "        \n",
    "        # Convert target to indices (with <sos> and <eos>) and pad\n",
    "        tgt = [self.vocab['<sos>']] + [self.vocab[c] for c in tgt_str] + [self.vocab['<eos>']]\n",
    "        tgt = tgt + [self.vocab['<pad>']] * (self.tgt_max_len - len(tgt))\n",
    "        \n",
    "        return torch.tensor(src), torch.tensor(tgt)\n",
    "\n",
    "    # def __getitem__(self, idx):\n",
    "    #     max_val = 10**self.max_digits - 1\n",
    "    #     a = random.randint(0, max_val)\n",
    "    #     b = random.randint(0, max_val)\n",
    "    #     src_str = f\"{a:0{self.max_digits}d}+{b:0{self.max_digits}d}\"\n",
    "    #     tgt_str = f\"{a+b:0{self.max_digits+1}d}\"  # Allow for carry\n",
    "\n",
    "    #     # Convert source to indices and pad\n",
    "    #     src = [self.vocab[c] for c in src_str]\n",
    "    #     src = src + [self.vocab['<pad>']] * (self.src_max_len - len(src))\n",
    "        \n",
    "    #     # Convert target to indices (with <sos> and <eos>) and pad\n",
    "    #     tgt = [self.vocab['<sos>']] + [self.vocab[c] for c in tgt_str] + [self.vocab['<eos>']]\n",
    "    #     tgt = tgt + [self.vocab['<pad>']] * (self.tgt_max_len - len(tgt))\n",
    "        \n",
    "    #     return torch.tensor(src), torch.tensor(tgt)"
   ]
  },
  {
   "cell_type": "code",
   "execution_count": 10,
   "id": "d49ae00a-ecc4-4b58-b577-eb4cd474348e",
   "metadata": {},
   "outputs": [],
   "source": [
    "# Model configuration\n",
    "device = torch.device('cuda' if torch.cuda.is_available() else 'cpu')\n",
    "max_digits = 2  # 2-digit numbers\n",
    "src_vocab_size = 15  # Includes digits, operations, and special tokens\n",
    "tgt_vocab_size = 15\n",
    "\n",
    "# Architecture parameters\n",
    "d_model = 256  # Embedding dimension\n",
    "num_heads = 8   # Number of attention heads\n",
    "num_layers = 6  # Number of encoder/decoder layers\n",
    "d_ff = 1024     # Feed-forward hidden dimension\n",
    "max_seq_length = 2 * max_digits + 1  # For positional encoding\n",
    "dropout = 0.1   # Dropout rate\n",
    "\n",
    "# Training parameters\n",
    "batch_size = 128\n",
    "num_epochs = 20  \n",
    "n_samples = 50000\n",
    "learning_rate = 0.0005\n",
    "\n",
    "# Initialize model\n",
    "model = Transformer(\n",
    "    src_vocab_size, tgt_vocab_size, d_model, num_heads,\n",
    "    num_layers, d_ff, max_seq_length, dropout\n",
    ").to(device)\n",
    "\n",
    "# Initialize datasets and dataloaders\n",
    "train_dataset = AdditionDataset(num_samples=n_samples, max_digits=max_digits)\n",
    "val_dataset = AdditionDataset(num_samples=1000, max_digits=max_digits)\n",
    "train_loader = DataLoader(train_dataset, batch_size=batch_size, shuffle=True)\n",
    "val_loader = DataLoader(val_dataset, batch_size=batch_size, shuffle=False)\n",
    "\n",
    "# Loss function and optimizer\n",
    "criterion = nn.CrossEntropyLoss(ignore_index=0)  # Ignore padding tokens\n",
    "optimizer = torch.optim.Adam(\n",
    "    model.parameters(), \n",
    "    lr=learning_rate, \n",
    "    betas=(0.9, 0.98), \n",
    "    eps=1e-9\n",
    ")\n",
    "\n",
    "# Learning rate scheduler with warmup\n",
    "class NoamScheduler:    \n",
    "    def __init__(self, optimizer, d_model, warmup_steps=4000):\n",
    "        self.optimizer = optimizer\n",
    "        self.d_model = d_model\n",
    "        self.warmup_steps = warmup_steps\n",
    "        self.current_step = 0\n",
    "        \n",
    "    def step(self):\n",
    "        self.current_step += 1\n",
    "        lr = self.get_lr()\n",
    "        for param_group in self.optimizer.param_groups:\n",
    "            param_group['lr'] = lr\n",
    "            \n",
    "    def get_lr(self):\n",
    "        step = max(1, self.current_step)\n",
    "        factor = min(step ** (-0.5), step * self.warmup_steps ** (-1.5))\n",
    "        return factor * (self.d_model ** (-0.5))\n",
    "\n",
    "# Create scheduler\n",
    "scheduler = NoamScheduler(optimizer, d_model, warmup_steps=4000)"
   ]
  },
  {
   "cell_type": "code",
   "execution_count": 11,
   "id": "8dfcca56-19c4-48ea-b06e-8f8b7e995010",
   "metadata": {
    "editable": true,
    "scrolled": true,
    "slideshow": {
     "slide_type": ""
    },
    "tags": []
   },
   "outputs": [
    {
     "name": "stdout",
     "output_type": "stream",
     "text": [
      "Starting training on cuda...\n",
      "Model architecture: d_model=256, heads=8, layers=6, ff_dim=1024\n"
     ]
    },
    {
     "data": {
      "application/vnd.jupyter.widget-view+json": {
       "model_id": "400be97aa1084dd1a1e52a70353ff796",
       "version_major": 2,
       "version_minor": 0
      },
      "text/plain": [
       "Epoch 1/20:   0%|          | 0/391 [00:00<?, ?it/s]"
      ]
     },
     "metadata": {},
     "output_type": "display_data"
    },
    {
     "name": "stdout",
     "output_type": "stream",
     "text": [
      "Epoch 1/20 completed\n",
      "  Train Loss: 1.9437\n",
      "  Val Loss:   1.2034\n",
      "  Val Acc:    55.61%\n",
      "  New best model saved! (accuracy: 55.61%)\n"
     ]
    },
    {
     "data": {
      "application/vnd.jupyter.widget-view+json": {
       "model_id": "7861353122594c80acb86b81cb05fb41",
       "version_major": 2,
       "version_minor": 0
      },
      "text/plain": [
       "Epoch 2/20:   0%|          | 0/391 [00:00<?, ?it/s]"
      ]
     },
     "metadata": {},
     "output_type": "display_data"
    },
    {
     "name": "stdout",
     "output_type": "stream",
     "text": [
      "Epoch 2/20 completed\n",
      "  Train Loss: 1.1690\n",
      "  Val Loss:   0.9006\n",
      "  Val Acc:    64.78%\n",
      "  New best model saved! (accuracy: 64.78%)\n"
     ]
    },
    {
     "data": {
      "application/vnd.jupyter.widget-view+json": {
       "model_id": "1376c8c3a9e94e7cbfb82fa237aee87a",
       "version_major": 2,
       "version_minor": 0
      },
      "text/plain": [
       "Epoch 3/20:   0%|          | 0/391 [00:00<?, ?it/s]"
      ]
     },
     "metadata": {},
     "output_type": "display_data"
    },
    {
     "name": "stdout",
     "output_type": "stream",
     "text": [
      "Epoch 3/20 completed\n",
      "  Train Loss: 0.9100\n",
      "  Val Loss:   0.7099\n",
      "  Val Acc:    72.14%\n",
      "  New best model saved! (accuracy: 72.14%)\n"
     ]
    },
    {
     "data": {
      "application/vnd.jupyter.widget-view+json": {
       "model_id": "87f4fbaa9bd54278b8e986b2845781b0",
       "version_major": 2,
       "version_minor": 0
      },
      "text/plain": [
       "Epoch 4/20:   0%|          | 0/391 [00:00<?, ?it/s]"
      ]
     },
     "metadata": {},
     "output_type": "display_data"
    },
    {
     "name": "stdout",
     "output_type": "stream",
     "text": [
      "Epoch 4/20 completed\n",
      "  Train Loss: 0.7621\n",
      "  Val Loss:   0.6520\n",
      "  Val Acc:    74.75%\n",
      "  New best model saved! (accuracy: 74.75%)\n"
     ]
    },
    {
     "data": {
      "application/vnd.jupyter.widget-view+json": {
       "model_id": "988d988306644866a03320743c53b68b",
       "version_major": 2,
       "version_minor": 0
      },
      "text/plain": [
       "Epoch 5/20:   0%|          | 0/391 [00:00<?, ?it/s]"
      ]
     },
     "metadata": {},
     "output_type": "display_data"
    },
    {
     "name": "stdout",
     "output_type": "stream",
     "text": [
      "Epoch 5/20 completed\n",
      "  Train Loss: 0.5110\n",
      "  Val Loss:   0.1987\n",
      "  Val Acc:    93.38%\n",
      "  New best model saved! (accuracy: 93.38%)\n"
     ]
    },
    {
     "data": {
      "application/vnd.jupyter.widget-view+json": {
       "model_id": "fb5d54e20d854c54ae5f1a930d890796",
       "version_major": 2,
       "version_minor": 0
      },
      "text/plain": [
       "Epoch 6/20:   0%|          | 0/391 [00:00<?, ?it/s]"
      ]
     },
     "metadata": {},
     "output_type": "display_data"
    },
    {
     "name": "stdout",
     "output_type": "stream",
     "text": [
      "Epoch 6/20 completed\n",
      "  Train Loss: 0.2478\n",
      "  Val Loss:   0.1665\n",
      "  Val Acc:    95.09%\n",
      "  New best model saved! (accuracy: 95.09%)\n"
     ]
    },
    {
     "data": {
      "application/vnd.jupyter.widget-view+json": {
       "model_id": "2501d026c3f94e698f17f183f0a023c7",
       "version_major": 2,
       "version_minor": 0
      },
      "text/plain": [
       "Epoch 7/20:   0%|          | 0/391 [00:00<?, ?it/s]"
      ]
     },
     "metadata": {},
     "output_type": "display_data"
    },
    {
     "name": "stdout",
     "output_type": "stream",
     "text": [
      "Epoch 7/20 completed\n",
      "  Train Loss: 0.1914\n",
      "  Val Loss:   0.0710\n",
      "  Val Acc:    97.60%\n",
      "  New best model saved! (accuracy: 97.60%)\n"
     ]
    },
    {
     "data": {
      "application/vnd.jupyter.widget-view+json": {
       "model_id": "0b9156f171e84a75a4620ff1e7f9d61b",
       "version_major": 2,
       "version_minor": 0
      },
      "text/plain": [
       "Epoch 8/20:   0%|          | 0/391 [00:00<?, ?it/s]"
      ]
     },
     "metadata": {},
     "output_type": "display_data"
    },
    {
     "name": "stdout",
     "output_type": "stream",
     "text": [
      "Epoch 8/20 completed\n",
      "  Train Loss: 0.1293\n",
      "  Val Loss:   0.0377\n",
      "  Val Acc:    98.89%\n",
      "  New best model saved! (accuracy: 98.89%)\n"
     ]
    },
    {
     "data": {
      "application/vnd.jupyter.widget-view+json": {
       "model_id": "61fe0fce9e0f46849224346b1f58f8e7",
       "version_major": 2,
       "version_minor": 0
      },
      "text/plain": [
       "Epoch 9/20:   0%|          | 0/391 [00:00<?, ?it/s]"
      ]
     },
     "metadata": {},
     "output_type": "display_data"
    },
    {
     "name": "stdout",
     "output_type": "stream",
     "text": [
      "Epoch 9/20 completed\n",
      "  Train Loss: 0.1546\n",
      "  Val Loss:   0.0450\n",
      "  Val Acc:    98.62%\n"
     ]
    },
    {
     "data": {
      "application/vnd.jupyter.widget-view+json": {
       "model_id": "54d03747151b4381a73769e6d6f0f813",
       "version_major": 2,
       "version_minor": 0
      },
      "text/plain": [
       "Epoch 10/20:   0%|          | 0/391 [00:00<?, ?it/s]"
      ]
     },
     "metadata": {},
     "output_type": "display_data"
    },
    {
     "name": "stdout",
     "output_type": "stream",
     "text": [
      "Epoch 10/20 completed\n",
      "  Train Loss: 0.1356\n",
      "  Val Loss:   0.0343\n",
      "  Val Acc:    98.89%\n"
     ]
    },
    {
     "data": {
      "application/vnd.jupyter.widget-view+json": {
       "model_id": "7b3644beb5284db2aa595400f07f47b1",
       "version_major": 2,
       "version_minor": 0
      },
      "text/plain": [
       "Epoch 11/20:   0%|          | 0/391 [00:00<?, ?it/s]"
      ]
     },
     "metadata": {},
     "output_type": "display_data"
    },
    {
     "name": "stdout",
     "output_type": "stream",
     "text": [
      "Epoch 11/20 completed\n",
      "  Train Loss: 0.4574\n",
      "  Val Loss:   1.3412\n",
      "  Val Acc:    35.01%\n"
     ]
    },
    {
     "data": {
      "application/vnd.jupyter.widget-view+json": {
       "model_id": "205c27c959f8456c8bfec5653dbb7a15",
       "version_major": 2,
       "version_minor": 0
      },
      "text/plain": [
       "Epoch 12/20:   0%|          | 0/391 [00:00<?, ?it/s]"
      ]
     },
     "metadata": {},
     "output_type": "display_data"
    },
    {
     "name": "stdout",
     "output_type": "stream",
     "text": [
      "Epoch 12/20 completed\n",
      "  Train Loss: 0.6107\n",
      "  Val Loss:   5.3654\n",
      "  Val Acc:    33.62%\n"
     ]
    },
    {
     "data": {
      "application/vnd.jupyter.widget-view+json": {
       "model_id": "e47ffa86db954ef89bf9a179c1f1e942",
       "version_major": 2,
       "version_minor": 0
      },
      "text/plain": [
       "Epoch 13/20:   0%|          | 0/391 [00:00<?, ?it/s]"
      ]
     },
     "metadata": {},
     "output_type": "display_data"
    },
    {
     "name": "stdout",
     "output_type": "stream",
     "text": [
      "Epoch 13/20 completed\n",
      "  Train Loss: 0.2122\n",
      "  Val Loss:   6.2131\n",
      "  Val Acc:    32.78%\n"
     ]
    },
    {
     "data": {
      "application/vnd.jupyter.widget-view+json": {
       "model_id": "f91a0abc23b4434c9c6b3d25d20f466d",
       "version_major": 2,
       "version_minor": 0
      },
      "text/plain": [
       "Epoch 14/20:   0%|          | 0/391 [00:00<?, ?it/s]"
      ]
     },
     "metadata": {},
     "output_type": "display_data"
    },
    {
     "name": "stdout",
     "output_type": "stream",
     "text": [
      "Epoch 14/20 completed\n",
      "  Train Loss: 0.1725\n",
      "  Val Loss:   5.6324\n",
      "  Val Acc:    33.64%\n"
     ]
    },
    {
     "data": {
      "application/vnd.jupyter.widget-view+json": {
       "model_id": "a4f1ae4822914a8d82539e2d2adbf3d6",
       "version_major": 2,
       "version_minor": 0
      },
      "text/plain": [
       "Epoch 15/20:   0%|          | 0/391 [00:00<?, ?it/s]"
      ]
     },
     "metadata": {},
     "output_type": "display_data"
    },
    {
     "name": "stdout",
     "output_type": "stream",
     "text": [
      "Epoch 15/20 completed\n",
      "  Train Loss: 0.1421\n",
      "  Val Loss:   6.1298\n",
      "  Val Acc:    33.58%\n"
     ]
    },
    {
     "data": {
      "application/vnd.jupyter.widget-view+json": {
       "model_id": "f353341a2d3c49779f5d018a7c0f30e9",
       "version_major": 2,
       "version_minor": 0
      },
      "text/plain": [
       "Epoch 16/20:   0%|          | 0/391 [00:00<?, ?it/s]"
      ]
     },
     "metadata": {},
     "output_type": "display_data"
    },
    {
     "name": "stdout",
     "output_type": "stream",
     "text": [
      "Epoch 16/20 completed\n",
      "  Train Loss: 0.1093\n",
      "  Val Loss:   6.0117\n",
      "  Val Acc:    34.15%\n"
     ]
    },
    {
     "data": {
      "application/vnd.jupyter.widget-view+json": {
       "model_id": "e423f34acd264f3e93828dd36af1155d",
       "version_major": 2,
       "version_minor": 0
      },
      "text/plain": [
       "Epoch 17/20:   0%|          | 0/391 [00:00<?, ?it/s]"
      ]
     },
     "metadata": {},
     "output_type": "display_data"
    },
    {
     "name": "stdout",
     "output_type": "stream",
     "text": [
      "Epoch 17/20 completed\n",
      "  Train Loss: 0.0888\n",
      "  Val Loss:   6.3127\n",
      "  Val Acc:    34.13%\n"
     ]
    },
    {
     "data": {
      "application/vnd.jupyter.widget-view+json": {
       "model_id": "1266240c97bb49b8824136930999af5f",
       "version_major": 2,
       "version_minor": 0
      },
      "text/plain": [
       "Epoch 18/20:   0%|          | 0/391 [00:00<?, ?it/s]"
      ]
     },
     "metadata": {},
     "output_type": "display_data"
    },
    {
     "name": "stdout",
     "output_type": "stream",
     "text": [
      "Epoch 18/20 completed\n",
      "  Train Loss: 0.1118\n",
      "  Val Loss:   5.8558\n",
      "  Val Acc:    33.87%\n"
     ]
    },
    {
     "data": {
      "application/vnd.jupyter.widget-view+json": {
       "model_id": "d58ab82ab9b7467382b5dbf3967835ff",
       "version_major": 2,
       "version_minor": 0
      },
      "text/plain": [
       "Epoch 19/20:   0%|          | 0/391 [00:00<?, ?it/s]"
      ]
     },
     "metadata": {},
     "output_type": "display_data"
    },
    {
     "name": "stdout",
     "output_type": "stream",
     "text": [
      "Epoch 19/20 completed\n",
      "  Train Loss: 0.1056\n",
      "  Val Loss:   6.6283\n",
      "  Val Acc:    33.93%\n"
     ]
    },
    {
     "data": {
      "application/vnd.jupyter.widget-view+json": {
       "model_id": "318cea494b334fb0ab4e7eefa736a8f2",
       "version_major": 2,
       "version_minor": 0
      },
      "text/plain": [
       "Epoch 20/20:   0%|          | 0/391 [00:00<?, ?it/s]"
      ]
     },
     "metadata": {},
     "output_type": "display_data"
    },
    {
     "name": "stdout",
     "output_type": "stream",
     "text": [
      "Epoch 20/20 completed\n",
      "  Train Loss: 0.0802\n",
      "  Val Loss:   6.3094\n",
      "  Val Acc:    33.67%\n",
      "\n",
      "Training completed!\n",
      "Best validation accuracy: 98.89%\n"
     ]
    },
    {
     "data": {
      "image/png": "[encoded data removed]",
      "text/plain": [
       "<Figure size 1200x400 with 2 Axes>"
      ]
     },
     "metadata": {},
     "output_type": "display_data"
    }
   ],
   "source": [
    "def compute_accuracy(output, target):\n",
    "    pred = output.argmax(dim=-1)\n",
    "    mask = (target != 0)  # Ignore padding\n",
    "    correct = (pred == target) & mask\n",
    "    return correct.sum().item() / mask.sum().item()\n",
    "\n",
    "# Training and validation loop\n",
    "best_accuracy = 0.0\n",
    "train_losses, val_losses, val_accuracies = [], [], []\n",
    "\n",
    "print(f\"Starting training on {device}...\")\n",
    "print(f\"Model architecture: d_model={d_model}, heads={num_heads}, layers={num_layers}, ff_dim={d_ff}\")\n",
    "\n",
    "for epoch in range(num_epochs):\n",
    "    # Training phase\n",
    "    model.train()\n",
    "    total_loss = 0\n",
    "    \n",
    "    # Create tqdm progress bar for batches\n",
    "    batch_iterator = tqdm(train_loader, desc=f\"Epoch {epoch+1}/{num_epochs}\")\n",
    "    \n",
    "    for batch_idx, (src, tgt) in enumerate(batch_iterator):\n",
    "        src, tgt = src.to(device), tgt.to(device)\n",
    "        tgt_input = tgt[:, :-1]  # Exclude <eos>\n",
    "        tgt_output = tgt[:, 1:]   # Exclude <sos>\n",
    "\n",
    "        # Zero gradients\n",
    "        optimizer.zero_grad()\n",
    "        \n",
    "        # Forward pass\n",
    "        output = model(src, tgt_input)\n",
    "        \n",
    "        # Calculate loss\n",
    "        loss = criterion(output.reshape(-1, tgt_vocab_size), tgt_output.reshape(-1))\n",
    "        \n",
    "        # Backward pass and optimize\n",
    "        loss.backward()\n",
    "        torch.nn.utils.clip_grad_norm_(model.parameters(), max_norm=1.0)\n",
    "        optimizer.step()\n",
    "        scheduler.step()\n",
    "        \n",
    "        # Update statistics\n",
    "        total_loss += loss.item()\n",
    "        batch_iterator.set_postfix({\"loss\": f\"{loss.item():.4f}\"})\n",
    "\n",
    "    avg_loss = total_loss / len(train_loader)\n",
    "    train_losses.append(avg_loss)\n",
    "    \n",
    "    # Validation phase\n",
    "    model.eval()\n",
    "    val_loss = 0\n",
    "    val_acc = 0\n",
    "    \n",
    "    with torch.no_grad():\n",
    "        for src, tgt in val_loader:\n",
    "            src, tgt = src.to(device), tgt.to(device)\n",
    "            tgt_input = tgt[:, :-1]\n",
    "            tgt_output = tgt[:, 1:]\n",
    "            \n",
    "            # Forward pass\n",
    "            output = model(src, tgt_input)\n",
    "            \n",
    "            # Calculate loss and accuracy\n",
    "            loss = criterion(output.reshape(-1, tgt_vocab_size), tgt_output.reshape(-1))\n",
    "            val_loss += loss.item()\n",
    "            val_acc += compute_accuracy(output, tgt_output)\n",
    "    \n",
    "    avg_val_loss = val_loss / len(val_loader)\n",
    "    avg_val_acc = val_acc / len(val_loader)\n",
    "    val_losses.append(avg_val_loss)\n",
    "    val_accuracies.append(avg_val_acc)\n",
    "    \n",
    "    # Print epoch statistics\n",
    "    print(f\"Epoch {epoch+1}/{num_epochs} completed\")\n",
    "    print(f\"  Train Loss: {avg_loss:.4f}\")\n",
    "    print(f\"  Val Loss:   {avg_val_loss:.4f}\")\n",
    "    print(f\"  Val Acc:    {avg_val_acc:.2%}\")\n",
    "    \n",
    "    # Save best model\n",
    "    if avg_val_acc > best_accuracy:\n",
    "        best_accuracy = avg_val_acc\n",
    "        torch.save(model.state_dict(), \"best_addition_transformer.pt\")\n",
    "        print(f\"  New best model saved! (accuracy: {best_accuracy:.2%})\")\n",
    "\n",
    "# Print final results\n",
    "print(\"\\nTraining completed!\")\n",
    "print(f\"Best validation accuracy: {best_accuracy:.2%}\")\n",
    "\n",
    "# Plot training curves\n",
    "plt.figure(figsize=(12, 4))\n",
    "\n",
    "plt.subplot(1, 2, 1)\n",
    "plt.plot(train_losses, label='Training')\n",
    "plt.plot(val_losses, label='Validation')\n",
    "plt.xlabel('Epoch')\n",
    "plt.ylabel('Loss')\n",
    "plt.legend()\n",
    "plt.title('Loss Curves')\n",
    "\n",
    "plt.subplot(1, 2, 2)\n",
    "plt.plot(val_accuracies, color='green')\n",
    "plt.xlabel('Epoch')\n",
    "plt.ylabel('Accuracy')\n",
    "plt.title(f'Validation Accuracy (Best: {best_accuracy:.2%})')\n",
    "plt.ylim(0, 1)\n",
    "\n",
    "plt.tight_layout()\n",
    "plt.show()"
   ]
  },
  {
   "cell_type": "code",
   "execution_count": 12,
   "id": "515b0488-a6ba-4437-a4af-82de0b961cc7",
   "metadata": {},
   "outputs": [
    {
     "name": "stdout",
     "output_type": "stream",
     "text": [
      "Loaded best model with validation accuracy: 0.9889284592150253\n"
     ]
    }
   ],
   "source": [
    "# Load the best model for inference\n",
    "try:\n",
    "    model.load_state_dict(torch.load(\"best_addition_transformer.pt\"))\n",
    "    print(\"Loaded best model with validation accuracy:\", best_accuracy)\n",
    "except FileNotFoundError:\n",
    "    print(\"Using final model from training\")\n",
    "\n",
    "# Define vocabulary\n",
    "vocab = train_dataset.vocab\n",
    "inv_vocab = train_dataset.inv_vocab\n",
    "\n",
    "def predict(model, text_input, verbose=False):\n",
    "    model.eval()\n",
    "    \n",
    "    # Tokenize input\n",
    "    src_tensor = model.tokenize_input(\n",
    "        text=text_input, \n",
    "        vocab=vocab\n",
    "    ).to(device)\n",
    "    \n",
    "    # Generate output sequence\n",
    "    output = model.generate(\n",
    "        src=src_tensor,\n",
    "        sos_token=vocab['<sos>'],\n",
    "        eos_token=vocab['<eos>'],\n",
    "    )\n",
    "    \n",
    "    # Convert output tokens to string\n",
    "    prediction = model.detokenize_output(output, inv_vocab).replace('<sos>', '')\n",
    "    \n",
    "    # Parse input to check correctness\n",
    "    nums = text_input.split('+')\n",
    "    if len(nums) == 2:\n",
    "        try:\n",
    "            num1, num2 = int(nums[0]), int(nums[1])\n",
    "            expected = str(num1 + num2)\n",
    "            correct = prediction == expected\n",
    "            if verbose:\n",
    "                print(f\"Input: {text_input}\")\n",
    "                print(f\"Predicted: {prediction}\")\n",
    "                print(f\"Expected: {expected}\")\n",
    "                print(f\"Correct: {correct}\")\n",
    "            return prediction, correct\n",
    "        except ValueError:\n",
    "            pass\n",
    "    \n",
    "    return prediction, None"
   ]
  },
  {
   "cell_type": "code",
   "execution_count": 16,
   "id": "2c8a1100-3122-4377-b643-36e04d9956ba",
   "metadata": {},
   "outputs": [
    {
     "name": "stdout",
     "output_type": "stream",
     "text": [
      "Testing the model on various addition problems:\n",
      "\n",
      "Input      Predicted  Expected   Correct   \n",
      "----------------------------------------\n",
      "1+2        23         3          ✗         \n",
      "99+96      195        195        ✓         \n",
      "42+57      99         99         ✓         \n",
      "10+23      43         33         ✗         \n",
      "88+2       90         90         ✓         \n",
      "11+11      22         22         ✓         \n",
      "10+10      20         20         ✓         \n",
      "80+77      157        157        ✓         \n",
      "50+50      100        100        ✓         \n",
      "69+39      108        108        ✓         \n",
      "\n",
      "Accuracy on test cases: 80%\n",
      "\n",
      "Running a larger test set...\n",
      "Accuracy on 1000 random test cases: 96.20%\n"
     ]
    }
   ],
   "source": [
    "# Test the model on various examples\n",
    "test_cases = [\n",
    "    \"1+2\",\n",
    "    \"99+96\",\n",
    "    \"42+57\",\n",
    "    \"10+23\",\n",
    "    \"88+2\",\n",
    "    \"11+11\",\n",
    "    \"10+10\",\n",
    "    \"80+77\",\n",
    "    \"50+50\",\n",
    "    \"69+39\"\n",
    "]\n",
    "\n",
    "correct_count = 0\n",
    "results = []\n",
    "\n",
    "print(\"Testing the model on various addition problems:\\n\")\n",
    "print(\"{:<10} {:<10} {:<10} {:<10}\".format(\"Input\", \"Predicted\", \"Expected\", \"Correct\"))\n",
    "print(\"-\" * 40)\n",
    "\n",
    "for test_input in test_cases:\n",
    "    prediction, correct = predict(model, test_input)\n",
    "    \n",
    "    # Calculate expected result\n",
    "    nums = test_input.split('+')\n",
    "    num1, num2 = int(nums[0]), int(nums[1])\n",
    "    expected = str(num1 + num2)\n",
    "    \n",
    "    # Update statistics\n",
    "    if correct:\n",
    "        correct_count += 1\n",
    "    \n",
    "    results.append((test_input, prediction, expected, correct))\n",
    "    \n",
    "    # Print formatted results\n",
    "    check_mark = \"✓\" if correct else \"✗\"\n",
    "    print(\"{:<10} {:<10} {:<10} {:<10}\".format(test_input, prediction, expected, check_mark))\n",
    "\n",
    "print(\"\\nAccuracy on test cases: {:.0%}\".format(correct_count / len(test_cases)))\n",
    "\n",
    "# Create a more comprehensive test set\n",
    "print(\"\\nRunning a larger test set...\")\n",
    "num_eval_samples = 1000\n",
    "\n",
    "eval_correct = 0\n",
    "for _ in range(num_eval_samples):\n",
    "    a = random.randint(0, 99)\n",
    "    b = random.randint(0, 99)\n",
    "    test_input = f\"{a}+{b}\"\n",
    "    \n",
    "    prediction, correct = predict(model, test_input)\n",
    "    if correct:\n",
    "        eval_correct += 1\n",
    "\n",
    "print(f\"Accuracy on {num_eval_samples} random test cases: {eval_correct/num_eval_samples:.2%}\")"
   ]
  }
 ],
 "metadata": {
  "kernelspec": {
   "display_name": "Python 3 (ipykernel)",
   "language": "python",
   "name": "python3"
  },
  "language_info": {
   "codemirror_mode": {
    "name": "ipython",
    "version": 3
   },
   "file_extension": ".py",
   "mimetype": "text/x-python",
   "name": "python",
   "nbconvert_exporter": "python",
   "pygments_lexer": "ipython3",
   "version": "3.12.9"
  }
 },
 "nbformat": 4,
 "nbformat_minor": 5
}
